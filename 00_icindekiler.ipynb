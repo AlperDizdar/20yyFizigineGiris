{
 "cells": [
  {
   "cell_type": "markdown",
   "metadata": {},
   "source": [
    "# 20.Yüzyıl Fiziğine Giriş\n",
    "## 2.Bölüm: Kuantum Mekaniğinin Doğumu \n",
    "# İçindekiler\n",
    "- [Giriş](01_giris.ipynb)\n",
    "- [Karacisim ışıması](02_karacisim.ipynb)\n",
    "- [Fotoelektrik Olay](03_fotoelektrik.ipynb)\n",
    " \n"
   ]
  }
 ],
 "metadata": {
  "kernelspec": {
   "display_name": "Python 3",
   "language": "python",
   "name": "python3"
  },
  "language_info": {
   "codemirror_mode": {
    "name": "ipython",
    "version": 3
   },
   "file_extension": ".py",
   "mimetype": "text/x-python",
   "name": "python",
   "nbconvert_exporter": "python",
   "pygments_lexer": "ipython3",
   "version": "3.7.5"
  }
 },
 "nbformat": 4,
 "nbformat_minor": 4
}
