{
 "cells": [
  {
   "cell_type": "markdown",
   "metadata": {},
   "source": [
    "## Giriş"
   ]
  },
  {
   "cell_type": "markdown",
   "metadata": {},
   "source": [
    "20. Yüzyıl Fiziğine Giriş notlarını COVID19 salgını sırasında hazırlamaya başladım. \n",
    "\n",
    "İstanbul Üniversitesi'nde Astronomi ve Fizik Bölümlerinin **Fizik IV** adıyla bilinen zorunlu dersinin bir parçası olarak öğrenciler yararlanacak. Bir veya iki dönem olarak her fizik bölümünde yer alan bu ders, \"Çağdaş Fizik\", \"Modern Fizik\" gibi adlarla anılır. Ağda yayınlamaya başladıktan sonra bütün öğrencilerin (ve başka ilgililerin) kullanımına tabii ki açık.\n",
    "\n",
    "Defteri hazırlamaktaki amaç,\n",
    ". Bilimlerin gelişmesinde pek değinilmeyen konulara değinmek \n",
    ". Öğrencileri hesaplama pratiğine yönlendirmek\n",
    "olacak. Birbiriyle ilişkisiz gibi görünen bu iki boyut bakalım nasıl buluşacak.\n",
    "\n",
    "Notlar 6.4.2020 itibariyle yayınlanmaya başladı fakat uzun bir süre sürekli yazım halinde olacak. Dönemin neredeyse ortasına geldiğimiz için bu notları da \"ortasından\" yazmaya başladım. I. Bölüm: Görelilik Fiziğinin Doğuşu olacak.\n",
    "\n",
    "Gördüğünüz hataları veya geliştirme önerilerini dizdar@istanbul.edu.tr adresine gönderebilirsiniz.\n",
    "\n",
    "Defterler Jupyter kullanarak hazırlandı. Son haline gelince buraya bir de Giriş yazısı ekelenecek.\n",
    "\n",
    "Şimdilik bu kadar, sağlıkla kalın,\n",
    "\n",
    "Alper Dizdar\n",
    "\n"
   ]
  }
 ],
 "metadata": {
  "kernelspec": {
   "display_name": "Python 3",
   "language": "python",
   "name": "python3"
  },
  "language_info": {
   "codemirror_mode": {
    "name": "ipython",
    "version": 3
   },
   "file_extension": ".py",
   "mimetype": "text/x-python",
   "name": "python",
   "nbconvert_exporter": "python",
   "pygments_lexer": "ipython3",
   "version": "3.7.5"
  }
 },
 "nbformat": 4,
 "nbformat_minor": 4
}
