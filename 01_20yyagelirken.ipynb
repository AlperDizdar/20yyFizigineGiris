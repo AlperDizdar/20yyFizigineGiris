{
 "cells": [
  {
   "cell_type": "markdown",
   "metadata": {},
   "source": [
    "##  1. Yirminci Yüzyıla girerken"
   ]
  },
  {
   "cell_type": "markdown",
   "metadata": {},
   "source": [
    "### 1.1 Öncesi\n",
    "### 1.2 Faraday'dan Maxwell'e\n",
    "### 1.3 Atom tartışması\n",
    "### 1.4 Teknolojik gelişmeler\n",
    "### 1.5 Thomson q/m ölçümü\n",
    "### 1.6 Radyoaktivite\n",
    "\n",
    "... gibi başlıklar olacak."
   ]
  },
  {
   "cell_type": "code",
   "execution_count": null,
   "metadata": {},
   "outputs": [],
   "source": []
  }
 ],
 "metadata": {
  "kernelspec": {
   "display_name": "Python 3",
   "language": "python",
   "name": "python3"
  },
  "language_info": {
   "codemirror_mode": {
    "name": "ipython",
    "version": 3
   },
   "file_extension": ".py",
   "mimetype": "text/x-python",
   "name": "python",
   "nbconvert_exporter": "python",
   "pygments_lexer": "ipython3",
   "version": "3.7.5"
  }
 },
 "nbformat": 4,
 "nbformat_minor": 4
}
